{
 "cells": [
  {
   "cell_type": "code",
   "execution_count": 21,
   "metadata": {},
   "outputs": [],
   "source": [
    "import re"
   ]
  },
  {
   "cell_type": "code",
   "execution_count": 7,
   "metadata": {},
   "outputs": [],
   "source": [
    "file = open('dec2_input.txt') # Open file on read mode\n",
    "data = file.read().splitlines() # Create a list containing all lines\n",
    "file.close() # Close file"
   ]
  },
  {
   "cell_type": "code",
   "execution_count": 42,
   "metadata": {},
   "outputs": [
    {
     "data": {
      "text/plain": [
       "410"
      ]
     },
     "execution_count": 42,
     "metadata": {},
     "output_type": "execute_result"
    }
   ],
   "source": [
    "def countValidPasswords(data):\n",
    "    validPasswords = 0\n",
    "    for i in range(len(data)):\n",
    "        d = re.split(': |-|\\s+', data[i])\n",
    "        occurance = d[-1].count(d[2])\n",
    "        if occurance >= int(d[0]) and occurance <= int(d[1]):\n",
    "            validPasswords += 1\n",
    "    return validPasswords\n",
    "\n",
    "countValidPasswords(data)"
   ]
  },
  {
   "cell_type": "code",
   "execution_count": 56,
   "metadata": {},
   "outputs": [
    {
     "data": {
      "text/plain": [
       "839"
      ]
     },
     "execution_count": 56,
     "metadata": {},
     "output_type": "execute_result"
    }
   ],
   "source": [
    "def countValidPasswords2(data):\n",
    "    validPasswords = 0\n",
    "    for i in range(len(data)):\n",
    "        d = re.split(': |-|\\s+', data[i])\n",
    "        if d[-1][int(d[0])-1] == d[2] or d[-1][int(d[1])-1] == d[2]:\n",
    "            validPasswords += 1\n",
    "    return validPasswords\n",
    "\n",
    "countValidPasswords2(data)"
   ]
  }
 ],
 "metadata": {
  "kernelspec": {
   "display_name": "Python 3",
   "language": "python",
   "name": "python3"
  },
  "language_info": {
   "codemirror_mode": {
    "name": "ipython",
    "version": 3
   },
   "file_extension": ".py",
   "mimetype": "text/x-python",
   "name": "python",
   "nbconvert_exporter": "python",
   "pygments_lexer": "ipython3",
   "version": "3.7.3"
  }
 },
 "nbformat": 4,
 "nbformat_minor": 4
}
