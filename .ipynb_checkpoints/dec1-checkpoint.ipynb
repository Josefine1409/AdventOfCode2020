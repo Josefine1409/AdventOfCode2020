{
 "cells": [
  {
   "cell_type": "code",
   "execution_count": 19,
   "metadata": {},
   "outputs": [],
   "source": [
    "data = [1753,1976,1574,308,1384,1191,1731,1829,1658,1908,1663,2001,1298,1888,1134,1213,965,2009,1071,1591,1402,1184,1836,1536,1038,1871,1354,1149,1863,1728,1896,1599,1556,1222,1909,1858,1754,1947,1907,1656,1135,1845,1504,1473,1401,1700,1067,1790,1783,1539,1087,1614,1856,1895,1564,1106,1204,1492,1361,1897,1977,1210,1867,1797,1232,1148,1520,1989,210,1259,570,1512,1894,1309,1154,1327,1817,1875,1702,1885,1664,1220,1208,2000,1178,1423,1454,1780,1710,1362,1816,1491,1363,1478,1648,1163,1554,1195,1500,1320,1698,1636,1097,1573,1846,1747,1138,1083,1505,1387,1900,1143,1905,1826,1735,1496,1687,1704,1916,1991,1750,1637,1742,691,1967,1272,1657,1140,1070,1985,1405,1959,1218,1878,1340,1722,2003,1258,1726,1766,1868,1714,1463,2006,1537,1570,1526,1578,1744,1734,1325,196,1935,1849,1424,1972,1602,1859,1341,1177,1901,1902,1247,2004,1350,1965,1407,836,1899,1804,975,1510,1898,1560,1777,1523,1822,1830,1855,1839,1482,1661,1835,1343,1278,1449,1136,1732,2008,1686,1775,1952,1444,1499,1680,1752,1597,1963,1117,776]"
   ]
  },
  {
   "cell_type": "code",
   "execution_count": 20,
   "metadata": {},
   "outputs": [
    {
     "data": {
      "text/plain": [
       "[1184, 836, 989824]"
      ]
     },
     "execution_count": 20,
     "metadata": {},
     "output_type": "execute_result"
    }
   ],
   "source": [
    "res = []\n",
    "for i in range(len(data)):\n",
    "    if i == len(data)-2: break\n",
    "    for j in range(i+1, len(data)):\n",
    "        if data[i] + data[j] == 2020: res = [data[i], data[j], data[i] * data[j]]\n",
    "res"
   ]
  },
  {
   "cell_type": "code",
   "execution_count": 21,
   "metadata": {},
   "outputs": [
    {
     "data": {
      "text/plain": [
       "[1614, 210, 196, 66432240]"
      ]
     },
     "execution_count": 21,
     "metadata": {},
     "output_type": "execute_result"
    }
   ],
   "source": [
    "res2 = []\n",
    "for i in range(len(data)):\n",
    "    if i == len(data)-3: break\n",
    "    for j in range(i+1, len(data)):\n",
    "        if i == len(data)-2: break\n",
    "        for k in range(j+1, len(data)):\n",
    "            if data[i] + data[j] + data[k] == 2020: res2 = [data[i], data[j], data[k], data[i] * data[j] * data[k]]\n",
    "res2"
   ]
  },
  {
   "cell_type": "code",
   "execution_count": null,
   "metadata": {},
   "outputs": [],
   "source": []
  }
 ],
 "metadata": {
  "kernelspec": {
   "display_name": "Python 3",
   "language": "python",
   "name": "python3"
  },
  "language_info": {
   "codemirror_mode": {
    "name": "ipython",
    "version": 3
   },
   "file_extension": ".py",
   "mimetype": "text/x-python",
   "name": "python",
   "nbconvert_exporter": "python",
   "pygments_lexer": "ipython3",
   "version": "3.7.3"
  }
 },
 "nbformat": 4,
 "nbformat_minor": 4
}
