{
 "cells": [
  {
   "cell_type": "code",
   "execution_count": 2,
   "metadata": {},
   "outputs": [],
   "source": [
    "import re"
   ]
  },
  {
   "cell_type": "code",
   "execution_count": 3,
   "metadata": {},
   "outputs": [],
   "source": [
    "file = open('dec2_input.txt') # Open file on read mode\n",
    "data = file.read().splitlines() # Create a list containing all lines\n",
    "file.close() # Close file"
   ]
  },
  {
   "cell_type": "code",
   "execution_count": 4,
   "metadata": {},
   "outputs": [
    {
     "data": {
      "text/plain": [
       "410"
      ]
     },
     "execution_count": 4,
     "metadata": {},
     "output_type": "execute_result"
    }
   ],
   "source": [
    "def countValidPasswords(data):\n",
    "    validPasswords = 0 # Initialise counting variable\n",
    "    for i in range(len(data)):\n",
    "        d = re.split(': |-|\\s+', data[i]) # For each row, split it into [<lower>, <upper>, <letter>, <string>] with all being strings\n",
    "        occurance = d[-1].count(d[2]) # Count the occurances of <letter> in <string>\n",
    "        if int(d[0]) <= occurance <= int(d[1]): # Compare with upper and lower bound for number of times\n",
    "            validPasswords += 1 # Up the counting variable for valid passwords\n",
    "    return validPasswords\n",
    "\n",
    "countValidPasswords(data)"
   ]
  },
  {
   "cell_type": "code",
   "execution_count": 7,
   "metadata": {},
   "outputs": [
    {
     "data": {
      "text/plain": [
       "694"
      ]
     },
     "execution_count": 7,
     "metadata": {},
     "output_type": "execute_result"
    }
   ],
   "source": [
    "def countValidPasswords2(data):\n",
    "    validPasswords = 0 # Initialise counting variable\n",
    "    for i in range(len(data)):\n",
    "        d = re.split(': |-|\\s+', data[i]) # For each row, split it into [<pos1>, <pos2>, <letter>, <string>] with all being strings\n",
    "        if (d[-1][int(d[0])-1] == d[2]) ^ (d[-1][int(d[1])-1] == d[2]): # (<letter> at <pos1> in <string>) XOR (<letter> at <pos2> in <string>)\n",
    "            validPasswords += 1 # Up the counting variable for valid passwords\n",
    "    return validPasswords\n",
    "\n",
    "countValidPasswords2(data)"
   ]
  }
 ],
 "metadata": {
  "kernelspec": {
   "display_name": "Python 3",
   "language": "python",
   "name": "python3"
  },
  "language_info": {
   "codemirror_mode": {
    "name": "ipython",
    "version": 3
   },
   "file_extension": ".py",
   "mimetype": "text/x-python",
   "name": "python",
   "nbconvert_exporter": "python",
   "pygments_lexer": "ipython3",
   "version": "3.7.3"
  }
 },
 "nbformat": 4,
 "nbformat_minor": 4
}
