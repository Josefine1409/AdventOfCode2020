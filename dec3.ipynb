{
 "cells": [
  {
   "cell_type": "code",
   "execution_count": 3,
   "metadata": {},
   "outputs": [],
   "source": [
    "file = open('dec3_input.txt') # Open file on read mode\n",
    "data = file.read().splitlines() # Create a list containing all lines\n",
    "file.close() # Close file"
   ]
  },
  {
   "cell_type": "code",
   "execution_count": 4,
   "metadata": {},
   "outputs": [],
   "source": [
    "def searchPath(rightStep, downStep, startPosition, numberOfTrees = 0):\n",
    "    \"\"\" TEXT\n",
    "    \"\"\"\n",
    "    # Calculate the x-position on the grid while not running over the edge (thus modulo)\n",
    "    posX = (startPosition[0] + rightStep) % len(data[0])\n",
    "    # Calculate the y-position on the grid\n",
    "    posY = startPosition[1] + downStep\n",
    "    # Update the number of trees if we encounter a tree ('#') at the position\n",
    "    if data[posY][posX] == '#': numberOfTrees += 1\n",
    "    # Recursively call the function with updated startposition (last known position) and number of trees until now, and add the number of trees encountered to the previous number recursively out again\n",
    "    if posY < len(data) - 1: numberOfTrees = searchPath(rightStep, downStep, (posX, posY), numberOfTrees)\n",
    "    # Return the number of trees encounted on the route\n",
    "    return numberOfTrees"
   ]
  },
  {
   "cell_type": "code",
   "execution_count": 5,
   "metadata": {},
   "outputs": [
    {
     "data": {
      "text/plain": [
       "265"
      ]
     },
     "execution_count": 5,
     "metadata": {},
     "output_type": "execute_result"
    }
   ],
   "source": [
    "# Part 1\n",
    "searchPath(3, 1, (0,0))"
   ]
  },
  {
   "cell_type": "code",
   "execution_count": 7,
   "metadata": {},
   "outputs": [
    {
     "data": {
      "text/plain": [
       "3154761400"
      ]
     },
     "execution_count": 7,
     "metadata": {},
     "output_type": "execute_result"
    }
   ],
   "source": [
    "# Part 2\n",
    "slopes = [(1, 1), (3, 1), (5, 1), (7, 1), (1, 2)]\n",
    "mulRes = 1\n",
    "for slopeX, slopeY in slopes:\n",
    "    mulRes = mulRes * searchPath(slopeX, slopeY, (0,0))\n",
    "mulRes"
   ]
  }
 ],
 "metadata": {
  "kernelspec": {
   "display_name": "Python 3",
   "language": "python",
   "name": "python3"
  },
  "language_info": {
   "codemirror_mode": {
    "name": "ipython",
    "version": 3
   },
   "file_extension": ".py",
   "mimetype": "text/x-python",
   "name": "python",
   "nbconvert_exporter": "python",
   "pygments_lexer": "ipython3",
   "version": "3.8.5"
  }
 },
 "nbformat": 4,
 "nbformat_minor": 4
}
