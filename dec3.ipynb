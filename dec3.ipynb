{
 "cells": [
  {
   "cell_type": "code",
   "execution_count": 1,
   "metadata": {},
   "outputs": [],
   "source": [
    "file = open('dec3_input.txt') # Open file on read mode\n",
    "data = file.read().splitlines() # Create a list containing all lines\n",
    "file.close() # Close file"
   ]
  },
  {
   "cell_type": "code",
   "execution_count": 60,
   "metadata": {},
   "outputs": [],
   "source": [
    "def searchPath(rightStep, downStep, startPosition, numberOfTrees = 0):\n",
    "    #TEXT\n",
    "    posX = (startPosition[0] + rightStep) % len(data[0])\n",
    "    posY = startPosition[1] + downStep\n",
    "    if data[posY][posX] == '#': numberOfTrees += 1\n",
    "    if posY < len(data) - 1: numberOfTrees = searchPath(rightStep, downStep, (posX, posY), numberOfTrees)\n",
    "    return numberOfTrees"
   ]
  },
  {
   "cell_type": "code",
   "execution_count": 61,
   "metadata": {},
   "outputs": [
    {
     "data": {
      "text/plain": [
       "265"
      ]
     },
     "execution_count": 61,
     "metadata": {},
     "output_type": "execute_result"
    }
   ],
   "source": [
    "searchPath(3, 1, (0,0))"
   ]
  }
 ],
 "metadata": {
  "kernelspec": {
   "display_name": "Python 3",
   "language": "python",
   "name": "python3"
  },
  "language_info": {
   "codemirror_mode": {
    "name": "ipython",
    "version": 3
   },
   "file_extension": ".py",
   "mimetype": "text/x-python",
   "name": "python",
   "nbconvert_exporter": "python",
   "pygments_lexer": "ipython3",
   "version": "3.7.3"
  }
 },
 "nbformat": 4,
 "nbformat_minor": 4
}
